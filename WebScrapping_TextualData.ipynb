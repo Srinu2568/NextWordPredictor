{
  "cells": [
    {
      "cell_type": "code",
      "execution_count": null,
      "id": "6bb227b0",
      "metadata": {
        "id": "6bb227b0"
      },
      "outputs": [],
      "source": [
        "!pip install spacy\n",
        "!pip install nltk"
      ]
    },
    {
      "cell_type": "code",
      "execution_count": null,
      "id": "2ba1c7ae",
      "metadata": {
        "id": "2ba1c7ae"
      },
      "outputs": [],
      "source": [
        "!python -m spacy download en_core_web_sm\n",
        "nlp = spacy.load(\"en_core_web_sm\")"
      ]
    },
    {
      "cell_type": "code",
      "execution_count": null,
      "id": "a26f9c18",
      "metadata": {
        "id": "a26f9c18",
        "outputId": "28db940f-04e8-437a-fa0c-4fb6ceb067cd"
      },
      "outputs": [
        {
          "name": "stdout",
          "output_type": "stream",
          "text": [
            "Requirement already satisfied: openpyxl in c:\\users\\user\\appdata\\local\\programs\\python\\python311\\lib\\site-packages (3.1.2)\n",
            "Requirement already satisfied: et-xmlfile in c:\\users\\user\\appdata\\local\\programs\\python\\python311\\lib\\site-packages (from openpyxl) (1.1.0)\n"
          ]
        },
        {
          "name": "stderr",
          "output_type": "stream",
          "text": [
            "\n",
            "[notice] A new release of pip is available: 23.1.1 -> 23.3.1\n",
            "[notice] To update, run: python.exe -m pip install --upgrade pip\n"
          ]
        }
      ],
      "source": [
        "!pip install openpyxl"
      ]
    },
    {
      "cell_type": "code",
      "execution_count": null,
      "id": "d71de264",
      "metadata": {
        "id": "d71de264"
      },
      "outputs": [],
      "source": [
        "import requests\n",
        "from bs4 import BeautifulSoup\n",
        "import time\n",
        "import pandas as pd\n",
        "import numpy as np\n",
        "import datetime\n",
        "import nltk\n",
        "import string\n",
        "import os\n",
        "import re\n",
        "from selenium.webdriver.common.by import By\n",
        "from selenium import webdriver\n",
        "from selenium.webdriver.chrome.service import Service\n",
        "from selenium.webdriver.chrome.options import Options\n",
        "from nltk.util import bigrams\n",
        "from nltk.tokenize import word_tokenize\n",
        "import spacy\n",
        "from openpyxl.workbook import Workbook\n",
        "from sklearn.feature_extraction.text import TfidfVectorizer"
      ]
    },
    {
      "cell_type": "code",
      "execution_count": null,
      "id": "0bf30193",
      "metadata": {
        "id": "0bf30193"
      },
      "outputs": [],
      "source": [
        "Driver_path = r\"C:\\\\Users\\\\user\\\\Desktop\\\\chromedriver.exe\"\n",
        "service = Service(Driver_path)\n",
        "driver = webdriver.Chrome(service=service)"
      ]
    },
    {
      "cell_type": "code",
      "execution_count": null,
      "id": "5c024efa",
      "metadata": {
        "id": "5c024efa"
      },
      "outputs": [],
      "source": [
        "url = 'https://www.gutenberg.org/'"
      ]
    },
    {
      "cell_type": "code",
      "execution_count": null,
      "id": "645d75b7",
      "metadata": {
        "id": "645d75b7"
      },
      "outputs": [],
      "source": [
        "driver.get(url)"
      ]
    },
    {
      "cell_type": "code",
      "execution_count": null,
      "id": "80b97a29",
      "metadata": {
        "id": "80b97a29"
      },
      "outputs": [],
      "source": [
        "bookshelve = driver.find_element(By.XPATH,'/html/body/div[1]/div/ul[1]/li[2]/a')\n",
        "bookshelve.click()"
      ]
    },
    {
      "cell_type": "code",
      "execution_count": null,
      "id": "5e814299",
      "metadata": {
        "id": "5e814299"
      },
      "outputs": [],
      "source": [
        "#XPATHS\n",
        "educational_XPath = '/html/body/div[1]/div/div[1]/ul[3]/li[1]/a'\n",
        "education_books_XPath = '//*[@id=\"content\"]/div[2]/div/ul/li[7]'\n",
        "crime_XPath = '/html/body/div[1]/div/div[1]/ul[2]/li[5]/a'\n",
        "crime_fiction_XPath = '//*[@id=\"content\"]/div[2]/div/ul/li[7]/a/span[2]/span[1]'"
      ]
    },
    {
      "cell_type": "code",
      "execution_count": null,
      "id": "e880a517",
      "metadata": {
        "id": "e880a517"
      },
      "outputs": [],
      "source": [
        "educational_book_shelf = driver.find_element(By.XPATH,educational_XPath)\n",
        "educational_book_shelf.click()"
      ]
    },
    {
      "cell_type": "code",
      "execution_count": null,
      "id": "c1d4207f",
      "metadata": {
        "id": "c1d4207f"
      },
      "outputs": [],
      "source": [
        "education_books = driver.find_element(By.XPATH,education_books_XPath)\n",
        "education_books.click()"
      ]
    },
    {
      "cell_type": "code",
      "execution_count": null,
      "id": "e37d959a",
      "metadata": {
        "id": "e37d959a"
      },
      "outputs": [],
      "source": [
        "books = driver.find_elements(By.CLASS_NAME,'booklink')"
      ]
    },
    {
      "cell_type": "code",
      "execution_count": null,
      "id": "e09b137a",
      "metadata": {
        "id": "e09b137a"
      },
      "outputs": [],
      "source": [
        "links=[]\n",
        "check = 0\n",
        "for i in books:\n",
        "    links.append(i.find_element(By.CLASS_NAME,'link').get_attribute('href'))\n",
        "    check=check+1\n",
        "    if check==3:\n",
        "        break"
      ]
    },
    {
      "cell_type": "code",
      "execution_count": null,
      "id": "b8306a3e",
      "metadata": {
        "id": "b8306a3e"
      },
      "outputs": [],
      "source": [
        "books=[]\n",
        "for link in links:\n",
        "    driver.get(link)\n",
        "    time.sleep(2)\n",
        "    read = driver.find_element(By.XPATH,'//*[@id=\"download\"]/div/table/tbody/tr[8]/td[2]/a')\n",
        "    if read.text.strip()=='Plain Text UTF-8':\n",
        "        read.click()\n",
        "    else:\n",
        "        break\n",
        "    book = driver.find_element(By.XPATH,'/html/body/pre')\n",
        "    books.append(book.text.strip())"
      ]
    },
    {
      "cell_type": "code",
      "execution_count": null,
      "id": "d4346d1b",
      "metadata": {
        "id": "d4346d1b"
      },
      "outputs": [],
      "source": [
        "driver.get(url)"
      ]
    },
    {
      "cell_type": "code",
      "execution_count": null,
      "id": "02265948",
      "metadata": {
        "id": "02265948"
      },
      "outputs": [],
      "source": [
        "bookshelve = driver.find_element(By.XPATH,'/html/body/div[1]/div/ul[1]/li[2]/a')\n",
        "bookshelve.click()"
      ]
    },
    {
      "cell_type": "code",
      "execution_count": null,
      "id": "fa07dbfd",
      "metadata": {
        "id": "fa07dbfd"
      },
      "outputs": [],
      "source": [
        "crime_book_shelf = driver.find_element(By.XPATH, crime_XPath)\n",
        "crime_book_shelf.click()"
      ]
    },
    {
      "cell_type": "code",
      "execution_count": null,
      "id": "55a2121f",
      "metadata": {
        "id": "55a2121f"
      },
      "outputs": [],
      "source": [
        "crime_fiction = driver.find_element(By.XPATH, crime_fiction_XPath)\n",
        "crime_fiction.click()"
      ]
    },
    {
      "cell_type": "code",
      "execution_count": null,
      "id": "439584da",
      "metadata": {
        "id": "439584da"
      },
      "outputs": [],
      "source": [
        "book = driver.find_elements(By.CLASS_NAME,'booklink')\n",
        "check = 0\n",
        "for i in book:\n",
        "    links.append(i.find_element(By.CLASS_NAME,'link').get_attribute('href'))\n",
        "    check=check+1\n",
        "    if check==3:\n",
        "        break"
      ]
    },
    {
      "cell_type": "code",
      "execution_count": null,
      "id": "58550832",
      "metadata": {
        "id": "58550832",
        "outputId": "70191070-b541-4611-ae1f-eff6a34a83cc"
      },
      "outputs": [
        {
          "name": "stdout",
          "output_type": "stream",
          "text": [
            "Book Scrapped :  1\n",
            "Book Scrapped :  2\n",
            "Book Scrapped :  3\n"
          ]
        }
      ],
      "source": [
        "j = 1\n",
        "for url in links[3:]:\n",
        "    driver.get(url)\n",
        "    time.sleep(4)\n",
        "    text_link = driver.find_element(by=By.XPATH,value='//*[@id=\"download\"]/div/table/tbody/tr[7]/td[2]/a')\n",
        "    if text_link.text.strip()=='Plain Text UTF-8':\n",
        "        text_link.click()\n",
        "    else:\n",
        "        break\n",
        "    book = driver.find_element(By.XPATH,'/html/body/pre')\n",
        "    books.append(book.text.strip())\n",
        "    print(\"Book Scrapped : \" , j )\n",
        "    j = j + 1"
      ]
    },
    {
      "cell_type": "code",
      "execution_count": null,
      "id": "4a92e711",
      "metadata": {
        "id": "4a92e711",
        "outputId": "1d120468-a27d-406b-e9fb-0f305211f30e"
      },
      "outputs": [
        {
          "name": "stdout",
          "output_type": "stream",
          "text": [
            "5\n"
          ]
        }
      ],
      "source": [
        "print(len(books))"
      ]
    },
    {
      "cell_type": "code",
      "execution_count": null,
      "id": "b97d2734",
      "metadata": {
        "id": "b97d2734"
      },
      "outputs": [],
      "source": [
        "books"
      ]
    },
    {
      "cell_type": "code",
      "execution_count": null,
      "id": "9af6d50e",
      "metadata": {
        "id": "9af6d50e"
      },
      "outputs": [],
      "source": [
        "#Raw Data to txt file\n",
        "file_path = 'RawData.txt'\n",
        "with open(file_path, 'w') as file:\n",
        "    for item in books:\n",
        "        file.write(f\"{item}\\n\")"
      ]
    },
    {
      "cell_type": "code",
      "execution_count": null,
      "id": "46016182",
      "metadata": {
        "id": "46016182"
      },
      "outputs": [],
      "source": [
        "def preprocess_text(text, alpha=1.0):\n",
        "    # Tokenization: Tokenize the text into words or tokens using NLTK\n",
        "    tokens = nltk.word_tokenize(text)\n",
        "    # Lowercasing: Convert all tokens to lowercase\n",
        "    tokens = [token.lower() for token in tokens]\n",
        "\n",
        "    tokens = [token for token in tokens if token.isalnum() or (token in string.punctuation and \"'\" in token)]\n",
        "\n",
        "    # Join the preprocessed tokens back into a string\n",
        "    preprocessed_text = ' '.join(tokens)\n",
        "\n",
        "    return preprocessed_text\n",
        "\n",
        "def remove_space(sentence):\n",
        "    return re.sub(r\"``(.*?)''\", r\"\\1\", sentence)\n",
        "\n",
        "def Preprocess_ScrapedData(books):\n",
        "    books =[i.replace('\\n',' ') for i in books]\n",
        "    books = [i.strip() for i in books]\n",
        "    intro = \"This ebook is for the use of anyone anywhere in the United States and most other parts of the world at no cost and with almost no restrictions whatsoever. You may copy it, give it away or re-use it under the terms of the Project Gutenberg License included with this ebook or online at www.gutenberg.org. If you are not located in the United States, you will have to check the laws of the country where you are located before using this eBook.\"\n",
        "\n",
        "    sentences_per_book = []\n",
        "    for book in books:\n",
        "    # Remove the intro text\n",
        "        cleaned_text = book.replace(intro, '')\n",
        "\n",
        "    # Process the cleaned text using Spacy\n",
        "        nlp.max_length = 2000000\n",
        "        doc = nlp(cleaned_text)\n",
        "\n",
        "    # Split the text into sentences\n",
        "        sentences = [sent.text.strip() for sent in doc.sents]\n",
        "        sentences_per_book.append(sentences)\n",
        "\n",
        "    lines = []\n",
        "    for sentence in sentences_per_book:\n",
        "        for line in sentence:\n",
        "            if line == ' ':\n",
        "                continue\n",
        "            if line not in lines:\n",
        "                lines.append(line.strip())\n",
        "\n",
        "    processed_lines = [preprocess_text(sentence) for sentence in lines]\n",
        "\n",
        "    processed_sentences = [remove_space(sentence) for sentence in processed_lines]\n",
        "\n",
        "    processed_text = [line for line in processed_sentences if (len(line)>30) and ('http //www' not in line) and ('project gutenberg' not in line) and ('ebook' not in line)]\n",
        "\n",
        "    processed_text = [line.replace(\"``\",'').strip() for line in processed_text]\n",
        "    processed_text = [re.sub(r'\\d+', '', line).strip() for line in processed_text]\n",
        "\n",
        "    filtered_sentences = []\n",
        "    [filtered_sentences.append(i) for i in processed_text if i not in filtered_sentences]\n",
        "\n",
        "    return filtered_sentences"
      ]
    },
    {
      "cell_type": "code",
      "execution_count": null,
      "id": "fed67ea6",
      "metadata": {
        "id": "fed67ea6",
        "outputId": "61b2915b-61e6-4b33-a352-1a3b08369437"
      },
      "outputs": [
        {
          "data": {
            "text/plain": [
              "22665"
            ]
          },
          "execution_count": 31,
          "metadata": {},
          "output_type": "execute_result"
        }
      ],
      "source": [
        "filtered_sentences = Preprocess_ScrapedData(books)\n",
        "len(filtered_sentences)"
      ]
    },
    {
      "cell_type": "code",
      "execution_count": null,
      "id": "1ce986fe",
      "metadata": {
        "id": "1ce986fe"
      },
      "outputs": [],
      "source": [
        "df_filtered = pd.DataFrame({'Sentences': filtered_sentences})"
      ]
    },
    {
      "cell_type": "code",
      "execution_count": null,
      "id": "393a705d",
      "metadata": {
        "id": "393a705d",
        "outputId": "b7b47988-95c5-428e-88e4-e0b2e4a51e3b"
      },
      "outputs": [
        {
          "data": {
            "text/html": [
              "<div>\n",
              "<style scoped>\n",
              "    .dataframe tbody tr th:only-of-type {\n",
              "        vertical-align: middle;\n",
              "    }\n",
              "\n",
              "    .dataframe tbody tr th {\n",
              "        vertical-align: top;\n",
              "    }\n",
              "\n",
              "    .dataframe thead th {\n",
              "        text-align: right;\n",
              "    }\n",
              "</style>\n",
              "<table border=\"1\" class=\"dataframe\">\n",
              "  <thead>\n",
              "    <tr style=\"text-align: right;\">\n",
              "      <th></th>\n",
              "      <th>Sentences</th>\n",
              "    </tr>\n",
              "  </thead>\n",
              "  <tbody>\n",
              "    <tr>\n",
              "      <th>0</th>\n",
              "      <td>montessori own handbook produced by alicia wil...</td>\n",
              "    </tr>\n",
              "    <tr>\n",
              "      <th>1</th>\n",
              "      <td>illustration maria montessori dr</td>\n",
              "    </tr>\n",
              "    <tr>\n",
              "      <th>2</th>\n",
              "      <td>montessori own handbook by maria montessori au...</td>\n",
              "    </tr>\n",
              "    <tr>\n",
              "      <th>3</th>\n",
              "      <td>with new york frederick stokes company publishers</td>\n",
              "    </tr>\n",
              "    <tr>\n",
              "      <th>4</th>\n",
              "      <td>copyright  frederick stokes company</td>\n",
              "    </tr>\n",
              "    <tr>\n",
              "      <th>...</th>\n",
              "      <td>...</td>\n",
              "    </tr>\n",
              "    <tr>\n",
              "      <th>22660</th>\n",
              "      <td>dieusy surveyed them for a moment with blank a...</td>\n",
              "    </tr>\n",
              "    <tr>\n",
              "      <th>22661</th>\n",
              "      <td>then with swift intelligence grasped the fact ...</td>\n",
              "    </tr>\n",
              "    <tr>\n",
              "      <th>22662</th>\n",
              "      <td>he sprang upon them tore them asunder fell hea...</td>\n",
              "    </tr>\n",
              "    <tr>\n",
              "      <th>22663</th>\n",
              "      <td>guerchard dashed to the door tried it and foun...</td>\n",
              "    </tr>\n",
              "    <tr>\n",
              "      <th>22664</th>\n",
              "      <td>forty yards down the street a was rolling smoo...</td>\n",
              "    </tr>\n",
              "  </tbody>\n",
              "</table>\n",
              "<p>22665 rows × 1 columns</p>\n",
              "</div>"
            ],
            "text/plain": [
              "                                               Sentences\n",
              "0      montessori own handbook produced by alicia wil...\n",
              "1                       illustration maria montessori dr\n",
              "2      montessori own handbook by maria montessori au...\n",
              "3      with new york frederick stokes company publishers\n",
              "4                    copyright  frederick stokes company\n",
              "...                                                  ...\n",
              "22660  dieusy surveyed them for a moment with blank a...\n",
              "22661  then with swift intelligence grasped the fact ...\n",
              "22662  he sprang upon them tore them asunder fell hea...\n",
              "22663  guerchard dashed to the door tried it and foun...\n",
              "22664  forty yards down the street a was rolling smoo...\n",
              "\n",
              "[22665 rows x 1 columns]"
            ]
          },
          "execution_count": 33,
          "metadata": {},
          "output_type": "execute_result"
        }
      ],
      "source": [
        "df_filtered"
      ]
    },
    {
      "cell_type": "code",
      "execution_count": null,
      "id": "b1ecf806",
      "metadata": {
        "id": "b1ecf806"
      },
      "outputs": [],
      "source": [
        "#TFIDF\n",
        "tfidf_vectorizer = TfidfVectorizer()\n",
        "\n",
        "\n",
        "tfidf_matrix = tfidf_vectorizer.fit_transform(df_filtered['Sentences'])\n",
        "\n",
        "\n",
        "df_tfidf = pd.DataFrame(tfidf_matrix.toarray(), columns=tfidf_vectorizer.get_feature_names_out())"
      ]
    },
    {
      "cell_type": "code",
      "execution_count": null,
      "id": "36ce86ee",
      "metadata": {
        "scrolled": true,
        "id": "36ce86ee",
        "outputId": "25028193-24f6-47ca-8e1b-fabee756fe39"
      },
      "outputs": [
        {
          "data": {
            "text/html": [
              "<div>\n",
              "<style scoped>\n",
              "    .dataframe tbody tr th:only-of-type {\n",
              "        vertical-align: middle;\n",
              "    }\n",
              "\n",
              "    .dataframe tbody tr th {\n",
              "        vertical-align: top;\n",
              "    }\n",
              "\n",
              "    .dataframe thead th {\n",
              "        text-align: right;\n",
              "    }\n",
              "</style>\n",
              "<table border=\"1\" class=\"dataframe\">\n",
              "  <thead>\n",
              "    <tr style=\"text-align: right;\">\n",
              "      <th></th>\n",
              "      <th>aback</th>\n",
              "      <th>abandon</th>\n",
              "      <th>abandoned</th>\n",
              "      <th>abandoning</th>\n",
              "      <th>abbey</th>\n",
              "      <th>abbreviated</th>\n",
              "      <th>aberration</th>\n",
              "      <th>abide</th>\n",
              "      <th>abiding</th>\n",
              "      <th>abilities</th>\n",
              "      <th>...</th>\n",
              "      <th>zeus</th>\n",
              "      <th>zigzags</th>\n",
              "      <th>zimmerman</th>\n",
              "      <th>zone</th>\n",
              "      <th>zossimov</th>\n",
              "      <th>æssthetic</th>\n",
              "      <th>æsthetic</th>\n",
              "      <th>æsthetically</th>\n",
              "      <th>æsthetics</th>\n",
              "      <th>êtes</th>\n",
              "    </tr>\n",
              "  </thead>\n",
              "  <tbody>\n",
              "    <tr>\n",
              "      <th>0</th>\n",
              "      <td>0.0</td>\n",
              "      <td>0.0</td>\n",
              "      <td>0.0</td>\n",
              "      <td>0.0</td>\n",
              "      <td>0.0</td>\n",
              "      <td>0.0</td>\n",
              "      <td>0.0</td>\n",
              "      <td>0.0</td>\n",
              "      <td>0.0</td>\n",
              "      <td>0.0</td>\n",
              "      <td>...</td>\n",
              "      <td>0.0</td>\n",
              "      <td>0.0</td>\n",
              "      <td>0.0</td>\n",
              "      <td>0.0</td>\n",
              "      <td>0.0</td>\n",
              "      <td>0.0</td>\n",
              "      <td>0.0</td>\n",
              "      <td>0.0</td>\n",
              "      <td>0.0</td>\n",
              "      <td>0.0</td>\n",
              "    </tr>\n",
              "    <tr>\n",
              "      <th>1</th>\n",
              "      <td>0.0</td>\n",
              "      <td>0.0</td>\n",
              "      <td>0.0</td>\n",
              "      <td>0.0</td>\n",
              "      <td>0.0</td>\n",
              "      <td>0.0</td>\n",
              "      <td>0.0</td>\n",
              "      <td>0.0</td>\n",
              "      <td>0.0</td>\n",
              "      <td>0.0</td>\n",
              "      <td>...</td>\n",
              "      <td>0.0</td>\n",
              "      <td>0.0</td>\n",
              "      <td>0.0</td>\n",
              "      <td>0.0</td>\n",
              "      <td>0.0</td>\n",
              "      <td>0.0</td>\n",
              "      <td>0.0</td>\n",
              "      <td>0.0</td>\n",
              "      <td>0.0</td>\n",
              "      <td>0.0</td>\n",
              "    </tr>\n",
              "    <tr>\n",
              "      <th>2</th>\n",
              "      <td>0.0</td>\n",
              "      <td>0.0</td>\n",
              "      <td>0.0</td>\n",
              "      <td>0.0</td>\n",
              "      <td>0.0</td>\n",
              "      <td>0.0</td>\n",
              "      <td>0.0</td>\n",
              "      <td>0.0</td>\n",
              "      <td>0.0</td>\n",
              "      <td>0.0</td>\n",
              "      <td>...</td>\n",
              "      <td>0.0</td>\n",
              "      <td>0.0</td>\n",
              "      <td>0.0</td>\n",
              "      <td>0.0</td>\n",
              "      <td>0.0</td>\n",
              "      <td>0.0</td>\n",
              "      <td>0.0</td>\n",
              "      <td>0.0</td>\n",
              "      <td>0.0</td>\n",
              "      <td>0.0</td>\n",
              "    </tr>\n",
              "    <tr>\n",
              "      <th>3</th>\n",
              "      <td>0.0</td>\n",
              "      <td>0.0</td>\n",
              "      <td>0.0</td>\n",
              "      <td>0.0</td>\n",
              "      <td>0.0</td>\n",
              "      <td>0.0</td>\n",
              "      <td>0.0</td>\n",
              "      <td>0.0</td>\n",
              "      <td>0.0</td>\n",
              "      <td>0.0</td>\n",
              "      <td>...</td>\n",
              "      <td>0.0</td>\n",
              "      <td>0.0</td>\n",
              "      <td>0.0</td>\n",
              "      <td>0.0</td>\n",
              "      <td>0.0</td>\n",
              "      <td>0.0</td>\n",
              "      <td>0.0</td>\n",
              "      <td>0.0</td>\n",
              "      <td>0.0</td>\n",
              "      <td>0.0</td>\n",
              "    </tr>\n",
              "    <tr>\n",
              "      <th>4</th>\n",
              "      <td>0.0</td>\n",
              "      <td>0.0</td>\n",
              "      <td>0.0</td>\n",
              "      <td>0.0</td>\n",
              "      <td>0.0</td>\n",
              "      <td>0.0</td>\n",
              "      <td>0.0</td>\n",
              "      <td>0.0</td>\n",
              "      <td>0.0</td>\n",
              "      <td>0.0</td>\n",
              "      <td>...</td>\n",
              "      <td>0.0</td>\n",
              "      <td>0.0</td>\n",
              "      <td>0.0</td>\n",
              "      <td>0.0</td>\n",
              "      <td>0.0</td>\n",
              "      <td>0.0</td>\n",
              "      <td>0.0</td>\n",
              "      <td>0.0</td>\n",
              "      <td>0.0</td>\n",
              "      <td>0.0</td>\n",
              "    </tr>\n",
              "    <tr>\n",
              "      <th>...</th>\n",
              "      <td>...</td>\n",
              "      <td>...</td>\n",
              "      <td>...</td>\n",
              "      <td>...</td>\n",
              "      <td>...</td>\n",
              "      <td>...</td>\n",
              "      <td>...</td>\n",
              "      <td>...</td>\n",
              "      <td>...</td>\n",
              "      <td>...</td>\n",
              "      <td>...</td>\n",
              "      <td>...</td>\n",
              "      <td>...</td>\n",
              "      <td>...</td>\n",
              "      <td>...</td>\n",
              "      <td>...</td>\n",
              "      <td>...</td>\n",
              "      <td>...</td>\n",
              "      <td>...</td>\n",
              "      <td>...</td>\n",
              "      <td>...</td>\n",
              "    </tr>\n",
              "    <tr>\n",
              "      <th>22660</th>\n",
              "      <td>0.0</td>\n",
              "      <td>0.0</td>\n",
              "      <td>0.0</td>\n",
              "      <td>0.0</td>\n",
              "      <td>0.0</td>\n",
              "      <td>0.0</td>\n",
              "      <td>0.0</td>\n",
              "      <td>0.0</td>\n",
              "      <td>0.0</td>\n",
              "      <td>0.0</td>\n",
              "      <td>...</td>\n",
              "      <td>0.0</td>\n",
              "      <td>0.0</td>\n",
              "      <td>0.0</td>\n",
              "      <td>0.0</td>\n",
              "      <td>0.0</td>\n",
              "      <td>0.0</td>\n",
              "      <td>0.0</td>\n",
              "      <td>0.0</td>\n",
              "      <td>0.0</td>\n",
              "      <td>0.0</td>\n",
              "    </tr>\n",
              "    <tr>\n",
              "      <th>22661</th>\n",
              "      <td>0.0</td>\n",
              "      <td>0.0</td>\n",
              "      <td>0.0</td>\n",
              "      <td>0.0</td>\n",
              "      <td>0.0</td>\n",
              "      <td>0.0</td>\n",
              "      <td>0.0</td>\n",
              "      <td>0.0</td>\n",
              "      <td>0.0</td>\n",
              "      <td>0.0</td>\n",
              "      <td>...</td>\n",
              "      <td>0.0</td>\n",
              "      <td>0.0</td>\n",
              "      <td>0.0</td>\n",
              "      <td>0.0</td>\n",
              "      <td>0.0</td>\n",
              "      <td>0.0</td>\n",
              "      <td>0.0</td>\n",
              "      <td>0.0</td>\n",
              "      <td>0.0</td>\n",
              "      <td>0.0</td>\n",
              "    </tr>\n",
              "    <tr>\n",
              "      <th>22662</th>\n",
              "      <td>0.0</td>\n",
              "      <td>0.0</td>\n",
              "      <td>0.0</td>\n",
              "      <td>0.0</td>\n",
              "      <td>0.0</td>\n",
              "      <td>0.0</td>\n",
              "      <td>0.0</td>\n",
              "      <td>0.0</td>\n",
              "      <td>0.0</td>\n",
              "      <td>0.0</td>\n",
              "      <td>...</td>\n",
              "      <td>0.0</td>\n",
              "      <td>0.0</td>\n",
              "      <td>0.0</td>\n",
              "      <td>0.0</td>\n",
              "      <td>0.0</td>\n",
              "      <td>0.0</td>\n",
              "      <td>0.0</td>\n",
              "      <td>0.0</td>\n",
              "      <td>0.0</td>\n",
              "      <td>0.0</td>\n",
              "    </tr>\n",
              "    <tr>\n",
              "      <th>22663</th>\n",
              "      <td>0.0</td>\n",
              "      <td>0.0</td>\n",
              "      <td>0.0</td>\n",
              "      <td>0.0</td>\n",
              "      <td>0.0</td>\n",
              "      <td>0.0</td>\n",
              "      <td>0.0</td>\n",
              "      <td>0.0</td>\n",
              "      <td>0.0</td>\n",
              "      <td>0.0</td>\n",
              "      <td>...</td>\n",
              "      <td>0.0</td>\n",
              "      <td>0.0</td>\n",
              "      <td>0.0</td>\n",
              "      <td>0.0</td>\n",
              "      <td>0.0</td>\n",
              "      <td>0.0</td>\n",
              "      <td>0.0</td>\n",
              "      <td>0.0</td>\n",
              "      <td>0.0</td>\n",
              "      <td>0.0</td>\n",
              "    </tr>\n",
              "    <tr>\n",
              "      <th>22664</th>\n",
              "      <td>0.0</td>\n",
              "      <td>0.0</td>\n",
              "      <td>0.0</td>\n",
              "      <td>0.0</td>\n",
              "      <td>0.0</td>\n",
              "      <td>0.0</td>\n",
              "      <td>0.0</td>\n",
              "      <td>0.0</td>\n",
              "      <td>0.0</td>\n",
              "      <td>0.0</td>\n",
              "      <td>...</td>\n",
              "      <td>0.0</td>\n",
              "      <td>0.0</td>\n",
              "      <td>0.0</td>\n",
              "      <td>0.0</td>\n",
              "      <td>0.0</td>\n",
              "      <td>0.0</td>\n",
              "      <td>0.0</td>\n",
              "      <td>0.0</td>\n",
              "      <td>0.0</td>\n",
              "      <td>0.0</td>\n",
              "    </tr>\n",
              "  </tbody>\n",
              "</table>\n",
              "<p>22665 rows × 15306 columns</p>\n",
              "</div>"
            ],
            "text/plain": [
              "       aback  abandon  abandoned  abandoning  abbey  abbreviated  aberration  \\\n",
              "0        0.0      0.0        0.0         0.0    0.0          0.0         0.0   \n",
              "1        0.0      0.0        0.0         0.0    0.0          0.0         0.0   \n",
              "2        0.0      0.0        0.0         0.0    0.0          0.0         0.0   \n",
              "3        0.0      0.0        0.0         0.0    0.0          0.0         0.0   \n",
              "4        0.0      0.0        0.0         0.0    0.0          0.0         0.0   \n",
              "...      ...      ...        ...         ...    ...          ...         ...   \n",
              "22660    0.0      0.0        0.0         0.0    0.0          0.0         0.0   \n",
              "22661    0.0      0.0        0.0         0.0    0.0          0.0         0.0   \n",
              "22662    0.0      0.0        0.0         0.0    0.0          0.0         0.0   \n",
              "22663    0.0      0.0        0.0         0.0    0.0          0.0         0.0   \n",
              "22664    0.0      0.0        0.0         0.0    0.0          0.0         0.0   \n",
              "\n",
              "       abide  abiding  abilities  ...  zeus  zigzags  zimmerman  zone  \\\n",
              "0        0.0      0.0        0.0  ...   0.0      0.0        0.0   0.0   \n",
              "1        0.0      0.0        0.0  ...   0.0      0.0        0.0   0.0   \n",
              "2        0.0      0.0        0.0  ...   0.0      0.0        0.0   0.0   \n",
              "3        0.0      0.0        0.0  ...   0.0      0.0        0.0   0.0   \n",
              "4        0.0      0.0        0.0  ...   0.0      0.0        0.0   0.0   \n",
              "...      ...      ...        ...  ...   ...      ...        ...   ...   \n",
              "22660    0.0      0.0        0.0  ...   0.0      0.0        0.0   0.0   \n",
              "22661    0.0      0.0        0.0  ...   0.0      0.0        0.0   0.0   \n",
              "22662    0.0      0.0        0.0  ...   0.0      0.0        0.0   0.0   \n",
              "22663    0.0      0.0        0.0  ...   0.0      0.0        0.0   0.0   \n",
              "22664    0.0      0.0        0.0  ...   0.0      0.0        0.0   0.0   \n",
              "\n",
              "       zossimov  æssthetic  æsthetic  æsthetically  æsthetics  êtes  \n",
              "0           0.0        0.0       0.0           0.0        0.0   0.0  \n",
              "1           0.0        0.0       0.0           0.0        0.0   0.0  \n",
              "2           0.0        0.0       0.0           0.0        0.0   0.0  \n",
              "3           0.0        0.0       0.0           0.0        0.0   0.0  \n",
              "4           0.0        0.0       0.0           0.0        0.0   0.0  \n",
              "...         ...        ...       ...           ...        ...   ...  \n",
              "22660       0.0        0.0       0.0           0.0        0.0   0.0  \n",
              "22661       0.0        0.0       0.0           0.0        0.0   0.0  \n",
              "22662       0.0        0.0       0.0           0.0        0.0   0.0  \n",
              "22663       0.0        0.0       0.0           0.0        0.0   0.0  \n",
              "22664       0.0        0.0       0.0           0.0        0.0   0.0  \n",
              "\n",
              "[22665 rows x 15306 columns]"
            ]
          },
          "execution_count": 193,
          "metadata": {},
          "output_type": "execute_result"
        }
      ],
      "source": [
        "df_tfidf"
      ]
    },
    {
      "cell_type": "code",
      "execution_count": null,
      "id": "05563b7a",
      "metadata": {
        "id": "05563b7a"
      },
      "outputs": [],
      "source": [
        "#Preprocessed Data to excel file\n",
        "excel_file_path = 'PreprocssedData.xlsx'\n",
        "df_filtered.to_excel(excel_file_path, index=False)"
      ]
    },
    {
      "cell_type": "code",
      "execution_count": null,
      "id": "7a394d84",
      "metadata": {
        "id": "7a394d84",
        "outputId": "c9fe00e5-bda0-46b1-8163-8187bf07a8c3"
      },
      "outputs": [
        {
          "name": "stdout",
          "output_type": "stream",
          "text": [
            "              Sentence             Bigram\n",
            "0           Sentence 1     montessori own\n",
            "1           Sentence 1       own handbook\n",
            "2           Sentence 1  handbook produced\n",
            "3           Sentence 1        produced by\n",
            "4           Sentence 1          by alicia\n",
            "...                ...                ...\n",
            "390483  Sentence 22665        was rolling\n",
            "390484  Sentence 22665   rolling smoothly\n",
            "390485  Sentence 22665        smoothly to\n",
            "390486  Sentence 22665               to a\n",
            "390487  Sentence 22665        a honeymoon\n",
            "\n",
            "[390488 rows x 2 columns]\n"
          ]
        }
      ],
      "source": [
        "#BIGRAMS\n",
        "sentences_tokenized = [word_tokenize(sentence.lower()) for sentence in filtered_sentences]\n",
        "sentences_bigrams = [list(bigrams(tokens)) for tokens in sentences_tokenized]\n",
        "\n",
        "structured_bigrams = []\n",
        "\n",
        "for i, sentence_bigrams in enumerate(sentences_bigrams, start=1):\n",
        "    for bigram in sentence_bigrams:\n",
        "        structured_bigrams.append({\n",
        "            'Sentence': f\"Sentence {i}\",\n",
        "            'Bigram': ' '.join(bigram)\n",
        "        })\n",
        "\n",
        "df = pd.DataFrame(structured_bigrams)\n",
        "\n",
        "print(df)"
      ]
    },
    {
      "cell_type": "code",
      "execution_count": null,
      "id": "fbb9567a",
      "metadata": {
        "id": "fbb9567a"
      },
      "outputs": [],
      "source": [
        "#Bigram to excel file\n",
        "excel_file_path = 'BigramsData.xlsx'\n",
        "df.to_excel(excel_file_path, index=False)"
      ]
    }
  ],
  "metadata": {
    "kernelspec": {
      "display_name": "Python 3 (ipykernel)",
      "language": "python",
      "name": "python3"
    },
    "language_info": {
      "codemirror_mode": {
        "name": "ipython",
        "version": 3
      },
      "file_extension": ".py",
      "mimetype": "text/x-python",
      "name": "python",
      "nbconvert_exporter": "python",
      "pygments_lexer": "ipython3",
      "version": "3.11.3"
    },
    "colab": {
      "provenance": []
    }
  },
  "nbformat": 4,
  "nbformat_minor": 5
}